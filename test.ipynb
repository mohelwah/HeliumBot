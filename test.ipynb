{
 "cells": [
  {
   "cell_type": "code",
   "execution_count": 2,
   "id": "054f85f3",
   "metadata": {},
   "outputs": [
    {
     "ename": "ModuleNotFoundError",
     "evalue": "No module named 'helium'",
     "output_type": "error",
     "traceback": [
      "\u001b[1;31m---------------------------------------------------------------------------\u001b[0m",
      "\u001b[1;31mModuleNotFoundError\u001b[0m                       Traceback (most recent call last)",
      "Cell \u001b[1;32mIn[2], line 1\u001b[0m\n\u001b[1;32m----> 1\u001b[0m \u001b[39mfrom\u001b[39;00m \u001b[39mhelium\u001b[39;00m \u001b[39mimport\u001b[39;00m \u001b[39m*\u001b[39m\n",
      "\u001b[1;31mModuleNotFoundError\u001b[0m: No module named 'helium'"
     ]
    }
   ],
   "source": [
    "from helium import *"
   ]
  },
  {
   "cell_type": "code",
   "execution_count": null,
   "id": "959a6853",
   "metadata": {},
   "outputs": [],
   "source": [
    "url = \"https://chelseafc.3ddigitalvenue.com/login\""
   ]
  },
  {
   "cell_type": "code",
   "execution_count": null,
   "id": "e73d1097",
   "metadata": {},
   "outputs": [],
   "source": [
    "start_chrome('https://www.google.com')"
   ]
  },
  {
   "cell_type": "code",
   "execution_count": null,
   "id": "f5f352ce",
   "metadata": {},
   "outputs": [],
   "source": [
    "executable_path = \"C:\\webdriver\\chromedriver.exe\"\n",
    "driver = webdriver.Chrome(executable_path=executable_path)"
   ]
  },
  {
   "cell_type": "code",
   "execution_count": 39,
   "id": "225daf4e",
   "metadata": {},
   "outputs": [],
   "source": [
    "site = \n",
    "driver.get(site)"
   ]
  },
  {
   "cell_type": "code",
   "execution_count": 28,
   "id": "7a67dbec",
   "metadata": {},
   "outputs": [],
   "source": [
    "driver.find_element(By.CLASS_NAME, \"CybotCookiebotDialogBodyButton\").click()"
   ]
  },
  {
   "cell_type": "code",
   "execution_count": 40,
   "id": "d9ac4fd1",
   "metadata": {},
   "outputs": [],
   "source": [
    "user1 = \"ethwiggins1996@gmail.com\"\n",
    "passw1 = \"Ethanwig101!\""
   ]
  },
  {
   "cell_type": "code",
   "execution_count": 16,
   "id": "c935e6b1",
   "metadata": {},
   "outputs": [
    {
     "data": {
      "text/plain": [
       "<selenium.webdriver.remote.webelement.WebElement (session=\"ed3c8974940a7f3f0cf22c65ea3f980e\", element=\"5c53f30b-ec85-4a73-9e43-0ea69614914f\")>"
      ]
     },
     "execution_count": 16,
     "metadata": {},
     "output_type": "execute_result"
    }
   ],
   "source": [
    "driver.find_element(By.ID, \"InAccountId\")"
   ]
  },
  {
   "cell_type": "code",
   "execution_count": 41,
   "id": "39208829",
   "metadata": {},
   "outputs": [],
   "source": [
    "user = driver.find_element(By.ID, \"InAccountId\")\n",
    "user.send_keys(user1)\n",
    "\n",
    "passw = driver.find_element(By.ID, \"InPassword\")\n",
    "passw.send_keys(passw1)"
   ]
  },
  {
   "cell_type": "code",
   "execution_count": 42,
   "id": "29c77ff9",
   "metadata": {},
   "outputs": [],
   "source": [
    "driver.find_element(By.CLASS_NAME, \"submit\").click()"
   ]
  },
  {
   "cell_type": "code",
   "execution_count": null,
   "id": "5a8d9dad",
   "metadata": {},
   "outputs": [],
   "source": []
  },
  {
   "cell_type": "code",
   "execution_count": null,
   "id": "6255c174",
   "metadata": {},
   "outputs": [],
   "source": []
  },
  {
   "cell_type": "code",
   "execution_count": null,
   "id": "65efb769",
   "metadata": {},
   "outputs": [],
   "source": []
  }
 ],
 "metadata": {
  "kernelspec": {
   "display_name": "Python 3",
   "language": "python",
   "name": "python3"
  },
  "language_info": {
   "codemirror_mode": {
    "name": "ipython",
    "version": 3
   },
   "file_extension": ".py",
   "mimetype": "text/x-python",
   "name": "python",
   "nbconvert_exporter": "python",
   "pygments_lexer": "ipython3",
   "version": "3.11.0"
  },
  "vscode": {
   "interpreter": {
    "hash": "fcb8fcb1d00e8ed60956daf7c96f4a8516500568e9266ca64c1a6aa79b71e90d"
   }
  }
 },
 "nbformat": 4,
 "nbformat_minor": 5
}
