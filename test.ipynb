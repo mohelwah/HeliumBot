{
 "cells": [
  {
   "cell_type": "code",
   "execution_count": 1,
   "id": "054f85f3",
   "metadata": {},
   "outputs": [],
   "source": [
    "from selenium import webdriver\n",
    "from selenium.webdriver.common.keys import Keys\n",
    "from selenium.webdriver.chrome.options import Options\n",
    "from selenium.webdriver.support.ui import Select\n",
    "from selenium.webdriver.common.by import By\n",
    "from selenium.webdriver.support.ui import WebDriverWait\n",
    "from selenium.webdriver.support import expected_conditions as EC\n",
    "from selenium.webdriver.support.select import Select\n",
    "from selenium.webdriver.common.action_chains import ActionChains"
   ]
  },
  {
   "cell_type": "code",
   "execution_count": 22,
   "id": "f5f352ce",
   "metadata": {},
   "outputs": [
    {
     "name": "stderr",
     "output_type": "stream",
     "text": [
      "C:\\Users\\root\\AppData\\Local\\Temp\\ipykernel_12152\\2450163274.py:2: DeprecationWarning: executable_path has been deprecated, please pass in a Service object\n",
      "  driver = webdriver.Chrome(executable_path=executable_path)\n"
     ]
    }
   ],
   "source": [
    "executable_path = \"C:\\webdriver\\chromedriver.exe\"\n",
    "driver = webdriver.Chrome(executable_path=executable_path)"
   ]
  },
  {
   "cell_type": "code",
   "execution_count": 16,
   "id": "96c87b3b",
   "metadata": {},
   "outputs": [],
   "source": [
    "def click(webElement):\n",
    "    ActionChains(driver).move_to_element(webElement)\n",
    "    webElement.click()\n",
    "    \n",
    "def wait(xpath):\n",
    "    try:\n",
    "        WebDriverWait(driver, 20).until(EC.presence_of_element_located((By.XPATH, xpath)))\n",
    "    except: \n",
    "        return"
   ]
  },
  {
   "cell_type": "code",
   "execution_count": 26,
   "id": "959a6853",
   "metadata": {},
   "outputs": [],
   "source": [
    "url = \"https://chelseafc.3ddigitalvenue.com/login\"\n",
    "driver.get(url)"
   ]
  },
  {
   "cell_type": "code",
   "execution_count": 18,
   "id": "7a67dbec",
   "metadata": {},
   "outputs": [],
   "source": [
    "driver.find_element(By.CLASS_NAME, \"CybotCookiebotDialogBodyButton\").click()"
   ]
  },
  {
   "cell_type": "code",
   "execution_count": 19,
   "id": "d9ac4fd1",
   "metadata": {},
   "outputs": [],
   "source": [
    "user1 = \"ethwiggins1996@gmail.com\"\n",
    "passw1 = \"Ethanwig101!\""
   ]
  },
  {
   "cell_type": "code",
   "execution_count": 24,
   "id": "39208829",
   "metadata": {},
   "outputs": [],
   "source": [
    "user = driver.find_element(By.ID, \"InAccountId\")\n",
    "user.send_keys(user1)\n",
    "\n",
    "passw = driver.find_element(By.ID, \"InPassword\")\n",
    "passw.send_keys(passw1)"
   ]
  },
  {
   "cell_type": "code",
   "execution_count": 25,
   "id": "5a8d9dad",
   "metadata": {},
   "outputs": [],
   "source": [
    "click(driver.find_element(By.CLASS_NAME, \"submit\"))"
   ]
  },
  {
   "cell_type": "code",
   "execution_count": 23,
   "id": "6255c174",
   "metadata": {},
   "outputs": [],
   "source": [
    "url  = \"https://chelseafc.3ddigitalvenue.com/my-account\"\n",
    "driver.get(url)"
   ]
  },
  {
   "cell_type": "code",
   "execution_count": 33,
   "id": "b439b58c",
   "metadata": {},
   "outputs": [],
   "source": [
    "# function to find html that contain the text\n",
    "def find_element_by_text(text):\n",
    "    return driver.find_element(By.XPATH,\"//*[contains(text(), '\" + text + \"')]\")"
   ]
  },
  {
   "cell_type": "code",
   "execution_count": 29,
   "id": "65efb769",
   "metadata": {},
   "outputs": [],
   "source": [
    "# write function to get href of a text\n",
    "def get_href(text):\n",
    "    xpath = \"//a[contains(text(),'\" + text + \"')]\"\n",
    "    #wait(xpath)\n",
    "    element = driver.find_element(By.XPATH, xpath)\n",
    "    return element.get_attribute(\"href\")\n"
   ]
  },
  {
   "cell_type": "code",
   "execution_count": 39,
   "id": "af28542c",
   "metadata": {},
   "outputs": [],
   "source": [
    "find_element_by_text(\"AWAY MATCHES\").click()"
   ]
  },
  {
   "cell_type": "code",
   "execution_count": 38,
   "id": "e178c470",
   "metadata": {},
   "outputs": [],
   "source": [
    "find_element_by_text(\"STAMFORD BRIDGE\").click()"
   ]
  },
  {
   "cell_type": "code",
   "execution_count": 43,
   "id": "453f74e7",
   "metadata": {},
   "outputs": [],
   "source": [
    "find_element_by_text(\"CHELSEA FC MEMBERSHIP 2022/2023 SEASON\").click()\n"
   ]
  },
  {
   "cell_type": "code",
   "execution_count": 41,
   "id": "1c3f31e3",
   "metadata": {},
   "outputs": [],
   "source": [
    "find_element_by_text(\"ALL\").click()"
   ]
  },
  {
   "cell_type": "code",
   "execution_count": 42,
   "id": "5db38756",
   "metadata": {},
   "outputs": [],
   "source": [
    "find_element_by_text(\"Select\").click()"
   ]
  },
  {
   "cell_type": "code",
   "execution_count": 44,
   "id": "ea2d4c98",
   "metadata": {},
   "outputs": [],
   "source": [
    "# write function to get find elememts that contain a text\n",
    "def find_elements_by_text(text):\n",
    "    return driver.find_elements(By.XPATH,\"//*[contains(text(), '\" + text + \"')]\")"
   ]
  },
  {
   "cell_type": "code",
   "execution_count": 62,
   "id": "a85a344e",
   "metadata": {},
   "outputs": [
    {
     "data": {
      "text/plain": [
       "[<selenium.webdriver.remote.webelement.WebElement (session=\"182dc9605c526aa8a5fbc6711f1fe524\", element=\"7ab2437f-c693-4c5a-a7d9-2441fdc48165\")>,\n",
       " <selenium.webdriver.remote.webelement.WebElement (session=\"182dc9605c526aa8a5fbc6711f1fe524\", element=\"7ed18de4-c83e-4e41-b606-f2da70f67843\")>,\n",
       " <selenium.webdriver.remote.webelement.WebElement (session=\"182dc9605c526aa8a5fbc6711f1fe524\", element=\"c9beff0c-8ae1-4752-bfe2-329fbb8438ca\")>,\n",
       " <selenium.webdriver.remote.webelement.WebElement (session=\"182dc9605c526aa8a5fbc6711f1fe524\", element=\"249df0e0-a7b5-4e32-9392-cda632186449\")>,\n",
       " <selenium.webdriver.remote.webelement.WebElement (session=\"182dc9605c526aa8a5fbc6711f1fe524\", element=\"26b8489c-d8ad-4013-b3cf-5ed5d1106ec3\")>,\n",
       " <selenium.webdriver.remote.webelement.WebElement (session=\"182dc9605c526aa8a5fbc6711f1fe524\", element=\"10487f36-b6da-41ae-bf7e-8f850bb20a73\")>,\n",
       " <selenium.webdriver.remote.webelement.WebElement (session=\"182dc9605c526aa8a5fbc6711f1fe524\", element=\"6eecebb4-47db-4bd5-bbcc-0c9aa48b5e19\")>,\n",
       " <selenium.webdriver.remote.webelement.WebElement (session=\"182dc9605c526aa8a5fbc6711f1fe524\", element=\"895a1cd6-0468-42dd-9e59-1b05afa7c35c\")>,\n",
       " <selenium.webdriver.remote.webelement.WebElement (session=\"182dc9605c526aa8a5fbc6711f1fe524\", element=\"d8f01090-802f-4ba1-abf3-343e847e6cd9\")>,\n",
       " <selenium.webdriver.remote.webelement.WebElement (session=\"182dc9605c526aa8a5fbc6711f1fe524\", element=\"ff77b91e-13b0-4312-a027-359cfc05c6b9\")>]"
      ]
     },
     "execution_count": 62,
     "metadata": {},
     "output_type": "execute_result"
    }
   ],
   "source": [
    "selection_list = find_elements_by_text(\"Select\")\n",
    "selection_list"
   ]
  },
  {
   "cell_type": "code",
   "execution_count": 65,
   "id": "d2502a6e",
   "metadata": {},
   "outputs": [],
   "source": [
    "find_element_by_text(\"Continue\").click()"
   ]
  }
 ],
 "metadata": {
  "kernelspec": {
   "display_name": "heliumbot",
   "language": "python",
   "name": "heliumbot"
  },
  "language_info": {
   "codemirror_mode": {
    "name": "ipython",
    "version": 3
   },
   "file_extension": ".py",
   "mimetype": "text/x-python",
   "name": "python",
   "nbconvert_exporter": "python",
   "pygments_lexer": "ipython3",
   "version": "3.9.12"
  },
  "vscode": {
   "interpreter": {
    "hash": "fcb8fcb1d00e8ed60956daf7c96f4a8516500568e9266ca64c1a6aa79b71e90d"
   }
  }
 },
 "nbformat": 4,
 "nbformat_minor": 5
}
